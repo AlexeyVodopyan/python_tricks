{
 "cells": [
  {
   "cell_type": "markdown",
   "metadata": {
    "deletable": true,
    "editable": true
   },
   "source": [
    "**Отличие массива от списка.\n",
    "Массив - это совокупность однотипных данных, расположенных непрерывно в памяти. \n",
    "\n",
    "    1. В массивах хранятся данные одного типа\n",
    "    \n",
    "    2. При создании массивов все значения хранятся непрерывно в памяти, то есть друг за другом.\n",
    "\n",
    "    3. При вставке нового элемента например в середину массива, создастся новый массив, где последующие элементы после нового будут перезаписаны с новыми адресами. Список позволяет менять и вставлять элементы с меньшими затратами.\n",
    "        \n",
    "    4. Список встроенная структура и не требует объявления\n",
    "Хранение списка в Python такое же как массива"
   ]
  },
  {
   "cell_type": "code",
   "execution_count": 3,
   "metadata": {
    "collapsed": false,
    "deletable": true,
    "editable": true
   },
   "outputs": [
    {
     "name": "stdout",
     "output_type": "stream",
     "text": [
      "[1, 2, 3, 'a']\n",
      "<class 'list'>\n"
     ]
    }
   ],
   "source": [
    "list = [1, 2, 3, 'a']\n",
    "print(list)\n",
    "print(type(list))"
   ]
  },
  {
   "cell_type": "code",
   "execution_count": 55,
   "metadata": {
    "collapsed": false,
    "deletable": true,
    "editable": true
   },
   "outputs": [
    {
     "name": "stdout",
     "output_type": "stream",
     "text": [
      "array('i', [1, 2, 3, 4])\n",
      "<class 'array.array'>\n"
     ]
    }
   ],
   "source": [
    "import array\n",
    "array_name = array.array('i', [1, 2, 3, 4], )\n",
    "print(array_name)\n",
    "print(type(array_name))"
   ]
  },
  {
   "cell_type": "code",
   "execution_count": 30,
   "metadata": {
    "collapsed": false,
    "deletable": true,
    "editable": true
   },
   "outputs": [
    {
     "name": "stdout",
     "output_type": "stream",
     "text": [
      "[1 2 3]\n",
      "<class 'numpy.ndarray'>\n"
     ]
    }
   ],
   "source": [
    "import numpy\n",
    "array_name = numpy.array([1, 2, 3])\n",
    "print(array_name)\n",
    "print(type(array_name))"
   ]
  },
  {
   "cell_type": "markdown",
   "metadata": {
    "deletable": true,
    "editable": true
   },
   "source": [
    "** Python array и NumPy array.\n",
    "\n",
    " Python array - эффективный способ хранения одномерного однородного массива. Numpy предоставляет более мощные N-мерные массивы и векторизованные арифметические операции, линейную алгебру и т.д."
   ]
  },
  {
   "cell_type": "markdown",
   "metadata": {
    "deletable": true,
    "editable": true
   },
   "source": [
    "** Статические и динамические массивы. Алгоритмическая сложность\n",
    "Статические массивы\n",
    "    Имеют фиксированный размер, который не изменяется в ходе выполнения программы. Можно изменить размер после деинициализирования памяти, выделенной для массива \n",
    "Динамический массив\n",
    "    Тот же статический массив с возможностью изменения размера в ходе выполнения программы. \n",
    "    В Python все массивы явялются динамическими    "
   ]
  },
  {
   "cell_type": "markdown",
   "metadata": {
    "deletable": true,
    "editable": true
   },
   "source": [
    "**Области применения массива\n",
    "\n",
    "1. Ввод/вывод связных данных одномерного массива \n",
    "2. Перебор данных: поиск, выборка\n",
    "3. Сортировка данных по возрастанию/убыванию ключевого выражения\n",
    "4. Построение графика функции \n",
    "5. Реализация численных методов решения задач (СЛАУ, ДУ, сеточные методы и т.д.) \n",
    "6. Вычисление каких-то характеристик массива: суммы, произведения, дисперсии, коррекции и т.д.1\n"
   ]
  }
 ],
 "metadata": {
  "kernelspec": {
   "display_name": "Python 3",
   "language": "python",
   "name": "python3"
  },
  "language_info": {
   "codemirror_mode": {
    "name": "ipython",
    "version": 3
   },
   "file_extension": ".py",
   "mimetype": "text/x-python",
   "name": "python",
   "nbconvert_exporter": "python",
   "pygments_lexer": "ipython3",
   "version": "3.5.2"
  }
 },
 "nbformat": 4,
 "nbformat_minor": 4
}
