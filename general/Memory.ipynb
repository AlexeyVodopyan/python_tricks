{
 "cells": [
  {
   "cell_type": "code",
   "execution_count": 1,
   "id": "9d460700",
   "metadata": {},
   "outputs": [],
   "source": [
    "from IPython.display import Image\n",
    "from IPython.core.display import HTML\n",
    "\n",
    "import os, sys"
   ]
  },
  {
   "cell_type": "code",
   "execution_count": 2,
   "id": "e8bcb3f8",
   "metadata": {},
   "outputs": [],
   "source": [
    "memory_hierarchy = \"http://computerscience.chemeketa.edu/cs160Reader/_images/Memory-Hierarchy.jpg\"\n",
    "python_memory = \"https://hsto.org/getpro/habr/upload_files/e7f/514/64c/e7f51464c6998b75f4f3fa2bfe0bb5ef\"\n",
    "python_object = \"https://hsto.org/getpro/habr/upload_files/a85/7a7/931/a857a7931fb99025933c69a721720680\""
   ]
  },
  {
   "cell_type": "markdown",
   "id": "c51c0008",
   "metadata": {},
   "source": [
    "# 1. Представление памяти внутри ПК"
   ]
  },
  {
   "cell_type": "markdown",
   "id": "7f4eda6c",
   "metadata": {},
   "source": [
    "В большинстве современных ПК используется следующая иерархия памяти: "
   ]
  },
  {
   "cell_type": "code",
   "execution_count": null,
   "id": "7ae1ed24",
   "metadata": {},
   "outputs": [],
   "source": [
    "Image(url=memory_hierarchy, width=700, height=600)"
   ]
  },
  {
   "cell_type": "markdown",
   "id": "e28b24b5",
   "metadata": {},
   "source": [
    "| Тип  | Скорость доступа, тактов  | Размер |\n",
    "|:------------- |:---------------:| -------------:|\n",
    "| Регистры процессора  | 1 |     ~ 100-1000 байт |\n",
    "| Кэш L1      | несколько тактов        |         10-100 килобайт   |\n",
    "| Кэш L2 | десятки тактов        |        500+ килобайт |\n",
    "| Кэш L3 | ~100        |        от нескольких до сотен мегабайт|\n",
    "| Кэш L4 | несколько сотен        |        несколько сотен мегабайт|\n",
    "| ОЗУ | от сотен до нескольких тысяч        |        от нескольких гигабайт до нескольких терабайт|\n",
    "| Дисковое хранилище | сотни тысяч - миллионы        |        от десятков гигабайт|"
   ]
  },
  {
   "cell_type": "markdown",
   "id": "f68b401b",
   "metadata": {},
   "source": [
    "# 2. Представление памяти в Python"
   ]
  },
  {
   "cell_type": "markdown",
   "id": "5e45ab94",
   "metadata": {},
   "source": [
    "В отличие от C-подобных языков, при программировании на Python работа с памятью возлагается на интерпретатор. Для управления памятью используется специальный механизм - **аллокатор**. Аллокатор необходим для резервирования у операционной системы (ОС) пространства памяти с целью исключения частого обращения к ОС."
   ]
  },
  {
   "cell_type": "markdown",
   "id": "e4bbd28f",
   "metadata": {},
   "source": [
    "Аллокатор устроен следующим образом:"
   ]
  },
  {
   "cell_type": "code",
   "execution_count": null,
   "id": "19cd0644",
   "metadata": {},
   "outputs": [],
   "source": [
    "Image(url=python_memory, width=600, height=600)"
   ]
  },
  {
   "cell_type": "markdown",
   "id": "0f653519",
   "metadata": {},
   "source": [
    "1. **Арена** — большой непрерывный кусок памяти (обычно 256 килобайт), содержит несколько страниц виртуальной памяти операционной системы;\n",
    "\n",
    "2. **Пул** — одна страница виртуальной памяти (обычно 4 килобайта);\n",
    "\n",
    "3. **Блок** — небольшой фрагмент памяти, используемый для хранения одного объекта (от 16 до 512 байт)."
   ]
  },
  {
   "cell_type": "markdown",
   "id": "d048566e",
   "metadata": {},
   "source": [
    "### Особенности\n",
    "\n",
    "- Арены включены в двусвязный список и располагаются в порядке увеличения в них свободного пространства;\n",
    "- Пулы предназначены для хранения блоков одинакового размера;\n",
    "- Пул может находиться в одном из 3-х состояний: **empty**, **used**, **full**;\n",
    "- Блок может находиться в одном из 3-х состояний: **untouched**, **free**, **allocated**; \n",
    "- Для больших объектов (больше 512 байт) память выделяется непосредственно у ОС."
   ]
  },
  {
   "cell_type": "markdown",
   "id": "fff20f51",
   "metadata": {},
   "source": [
    "# 3. Время жизни объекта"
   ]
  },
  {
   "cell_type": "markdown",
   "id": "18f94671",
   "metadata": {},
   "source": [
    "Время жизни объекта в Python зависит от **счётчика ссылок** и **механизма сборки мусора**."
   ]
  },
  {
   "cell_type": "markdown",
   "id": "ef2c7ff3",
   "metadata": {},
   "source": [
    "## 3.1. Счётчик ссылок"
   ]
  },
  {
   "cell_type": "code",
   "execution_count": null,
   "id": "1c90b7b4",
   "metadata": {},
   "outputs": [],
   "source": [
    "Image(url=python_object, width=700, height=600)"
   ]
  },
  {
   "cell_type": "markdown",
   "id": "6af0ccf0",
   "metadata": {},
   "source": [
    "Каждый объект в **Python** наследуется от базового класса **PyObject**, который содержит поля:\n",
    "\n",
    "- **ob_type** - указатель на другой объект, тип данного объекта;\n",
    "- **ob_refcnt** - количество ссылок на объект.\n",
    "\n",
    "Текущее количество ссылок на объект можно получить при помощи метода **sys.getrefcount(object)**."
   ]
  },
  {
   "cell_type": "markdown",
   "id": "4532090e",
   "metadata": {},
   "source": [
    "### 3.1.1. Случаи, в которых количество ссылок увеличивается:"
   ]
  },
  {
   "cell_type": "markdown",
   "id": "0bceafc6",
   "metadata": {},
   "source": [
    "1. Создание объекта"
   ]
  },
  {
   "cell_type": "code",
   "execution_count": null,
   "id": "ce0a8e51",
   "metadata": {},
   "outputs": [],
   "source": [
    "a = []\n",
    "sys.getrefcount(a)"
   ]
  },
  {
   "cell_type": "markdown",
   "id": "67eaffda",
   "metadata": {},
   "source": [
    "**Примечание:** количество ссылок на созданный объект равно **2**, поскольку объект является аргументом метода **getrefcount**."
   ]
  },
  {
   "cell_type": "markdown",
   "id": "49f38cd6",
   "metadata": {},
   "source": [
    "2. Присвоение другому объекту"
   ]
  },
  {
   "cell_type": "code",
   "execution_count": null,
   "id": "085021de",
   "metadata": {},
   "outputs": [],
   "source": [
    "b = a\n",
    "sys.getrefcount(a)"
   ]
  },
  {
   "cell_type": "markdown",
   "id": "d3ac926c",
   "metadata": {},
   "source": [
    "3. Объект передаётся в качестве аргумента функции"
   ]
  },
  {
   "cell_type": "code",
   "execution_count": null,
   "id": "c82972ba",
   "metadata": {},
   "outputs": [],
   "source": [
    "def func(lst: list):\n",
    "    return sys.getrefcount(a)\n",
    "\n",
    "func(a)"
   ]
  },
  {
   "cell_type": "markdown",
   "id": "5eca11e7",
   "metadata": {},
   "source": [
    "4. Объект сохраняется в контейнере в качестве элемента"
   ]
  },
  {
   "cell_type": "code",
   "execution_count": null,
   "id": "2e42d444",
   "metadata": {},
   "outputs": [],
   "source": [
    "n = [a, a, a]\n",
    "sys.getrefcount(a)"
   ]
  },
  {
   "cell_type": "markdown",
   "id": "50956910",
   "metadata": {},
   "source": [
    "### 3.1.2. Случаи, в которых количество ссылок уменьшается:"
   ]
  },
  {
   "cell_type": "markdown",
   "id": "977d4777",
   "metadata": {},
   "source": [
    "1. Явное удаление объекта"
   ]
  },
  {
   "cell_type": "code",
   "execution_count": null,
   "id": "98f9fc76",
   "metadata": {},
   "outputs": [],
   "source": [
    "a = []\n",
    "sys.getrefcount(a)"
   ]
  },
  {
   "cell_type": "code",
   "execution_count": null,
   "id": "ca6f5ae4",
   "metadata": {},
   "outputs": [],
   "source": [
    "del a"
   ]
  },
  {
   "cell_type": "code",
   "execution_count": null,
   "id": "b4fe5b55",
   "metadata": {},
   "outputs": [],
   "source": [
    "sys.getrefcount(a)"
   ]
  },
  {
   "cell_type": "markdown",
   "id": "7ac410d5",
   "metadata": {},
   "source": [
    "2. Присвоение нового значения"
   ]
  },
  {
   "cell_type": "code",
   "execution_count": null,
   "id": "84a15782",
   "metadata": {},
   "outputs": [],
   "source": [
    "a = set()\n",
    "sys.getrefcount(a)"
   ]
  },
  {
   "cell_type": "markdown",
   "id": "37935d06",
   "metadata": {},
   "source": [
    "3. Объект покидает область своего применения, например, при выходе из локальной области видимости"
   ]
  },
  {
   "cell_type": "code",
   "execution_count": null,
   "id": "c594d3c3",
   "metadata": {},
   "outputs": [],
   "source": [
    "def func(s: set):\n",
    "    print('refcount внутри функции:', sys.getrefcount(s))\n",
    "    \n",
    "\n",
    "func(a)\n",
    "print('refcount вне функции:', sys.getrefcount(a))"
   ]
  },
  {
   "cell_type": "markdown",
   "id": "2f5b3561",
   "metadata": {},
   "source": [
    "4. Контейнер, в котором находится объект, уничтожается, либо объект удаляется из контейнера"
   ]
  },
  {
   "cell_type": "code",
   "execution_count": null,
   "id": "ac392870",
   "metadata": {},
   "outputs": [],
   "source": [
    "n = [a, a, a]\n",
    "sys.getrefcount(a)"
   ]
  },
  {
   "cell_type": "code",
   "execution_count": null,
   "id": "8d1b161c",
   "metadata": {},
   "outputs": [],
   "source": [
    "del n\n",
    "sys.getrefcount(a)"
   ]
  },
  {
   "cell_type": "markdown",
   "id": "2291759f",
   "metadata": {},
   "source": [
    "#### Недостаток механизма подсчёта ссылок - циклические ссылки"
   ]
  },
  {
   "cell_type": "markdown",
   "id": "2ecea882",
   "metadata": {},
   "source": [
    "Кольцевая зависимость появляется, когда объект A содержит ссылку на объект B, а объект B, в свою очередь, ссылается на объект A. В таком случае, даже если никто больше не ссылается на объекты A и B, счётчик их ссылок никогда не станет равным нулю, а объекты никогда не удалятся."
   ]
  },
  {
   "cell_type": "code",
   "execution_count": null,
   "id": "a559401c",
   "metadata": {},
   "outputs": [],
   "source": [
    "a = []\n",
    "a.append(a)\n",
    "sys.getrefcount(a)"
   ]
  },
  {
   "cell_type": "markdown",
   "id": "eafbbb32",
   "metadata": {},
   "source": [
    "## 3.2. Механизм сборки мусора (Garbage collector)"
   ]
  },
  {
   "cell_type": "markdown",
   "id": "f5a132fd",
   "metadata": {},
   "source": [
    "Сборщик мусора отслеживает объекты, которые могут содержать ссылки на другие объекты, и рассматривает их доступность из основного кода на Python. При недоступности объекта он подлежит удалению.\n",
    "\n",
    "Механизм сборки мусора не работает постоянно, а также разделён на **3** поколения."
   ]
  },
  {
   "cell_type": "markdown",
   "id": "c65a8c95",
   "metadata": {},
   "source": [
    "Каждый новый объект помещается в младшее **1** поколение. Если в течение итерации по сборке мусора объект не подлежит удалению, он перемещается во **2** поколение, сборщик мусора для которого запускается реже, чем для поколения **1**. Аналогичным образом поколение **2** отличается от поколения **3**, в котором содержатся самые *долгоживущие* объекты."
   ]
  },
  {
   "cell_type": "markdown",
   "id": "06f5f668",
   "metadata": {},
   "source": [
    "Каждое поколения сборщика мусора содержит следующие параметры:\n",
    "- индивидуальный счётчик (разность между количеством созданных и удалённых объектов с момента последнего сбора);\n",
    "- пороговое значение (при превышении счётчиком порогового значения инициируется процесс сборки мусора).\n",
    "\n"
   ]
  },
  {
   "cell_type": "markdown",
   "id": "1840b532",
   "metadata": {},
   "source": [
    "Импортирование модуля, содержащего сборщик мусора:"
   ]
  },
  {
   "cell_type": "code",
   "execution_count": null,
   "id": "7d177ab7",
   "metadata": {},
   "outputs": [],
   "source": [
    "import gc"
   ]
  },
  {
   "cell_type": "markdown",
   "id": "db4d6e8d",
   "metadata": {},
   "source": [
    "Выключить / включить сборщик мусора:"
   ]
  },
  {
   "cell_type": "code",
   "execution_count": null,
   "id": "814fa40c",
   "metadata": {},
   "outputs": [],
   "source": [
    "gc.disable()\n",
    "gc.enable()"
   ]
  },
  {
   "cell_type": "markdown",
   "id": "1282b100",
   "metadata": {},
   "source": [
    "Ручной запуск:"
   ]
  },
  {
   "cell_type": "code",
   "execution_count": null,
   "id": "5995ff07",
   "metadata": {},
   "outputs": [],
   "source": [
    "gc.collect()"
   ]
  },
  {
   "cell_type": "markdown",
   "id": "a62ac6cd",
   "metadata": {},
   "source": [
    "Значения текущих порогов для каждого поколения:"
   ]
  },
  {
   "cell_type": "code",
   "execution_count": null,
   "id": "3ecf5b1f",
   "metadata": {},
   "outputs": [],
   "source": [
    "gc.get_threshold()"
   ]
  },
  {
   "cell_type": "markdown",
   "id": "4a8c70a1",
   "metadata": {},
   "source": [
    "Пороги можно изменять:"
   ]
  },
  {
   "cell_type": "code",
   "execution_count": null,
   "id": "3cafc1cc",
   "metadata": {},
   "outputs": [],
   "source": [
    "gc.set_threshold(150, 10, 10)\n",
    "gc.get_threshold()"
   ]
  },
  {
   "cell_type": "markdown",
   "id": "ca40a21d",
   "metadata": {},
   "source": [
    "Возвращает текущее количество объектов, подлежащих удалению:"
   ]
  },
  {
   "cell_type": "code",
   "execution_count": null,
   "id": "53856123",
   "metadata": {},
   "outputs": [],
   "source": [
    "gc.get_count()"
   ]
  },
  {
   "cell_type": "markdown",
   "id": "e85576d7",
   "metadata": {},
   "source": [
    "# 4. Объекты Python и занимаемая память"
   ]
  },
  {
   "cell_type": "markdown",
   "id": "0d6fea86",
   "metadata": {},
   "source": [
    "Существует встроенный метод **getsizeof** модуля **sys** для оценки памяти, потребляемой объектом:"
   ]
  },
  {
   "cell_type": "code",
   "execution_count": null,
   "id": "8bd9ee53",
   "metadata": {},
   "outputs": [],
   "source": [
    "lst = [1, 2, 3, 4, 5]"
   ]
  },
  {
   "cell_type": "code",
   "execution_count": null,
   "id": "3a609fa9",
   "metadata": {},
   "outputs": [],
   "source": [
    "sys.getsizeof(lst)"
   ]
  },
  {
   "cell_type": "markdown",
   "id": "78edfabc",
   "metadata": {},
   "source": [
    "Недостаток **getsizeof** - метод учитывает затраты только на те элементы, которые содержатся в объекте, но не на сам объект."
   ]
  },
  {
   "cell_type": "code",
   "execution_count": null,
   "id": "d0492371",
   "metadata": {},
   "outputs": [],
   "source": [
    "from pympler import asizeof"
   ]
  },
  {
   "cell_type": "code",
   "execution_count": null,
   "id": "d218e3c8",
   "metadata": {},
   "outputs": [],
   "source": [
    "asizeof.asizeof(lst)"
   ]
  },
  {
   "cell_type": "code",
   "execution_count": null,
   "id": "05b1f6ba",
   "metadata": {},
   "outputs": [],
   "source": [
    "print('none', sys.getsizeof(None), asizeof.asizeof(None))\n",
    "print('int', sys.getsizeof(1), asizeof.asizeof(1))\n",
    "print('float', sys.getsizeof(1.23), asizeof.asizeof(1.23))\n",
    "print('empty str', sys.getsizeof(\"\"), asizeof.asizeof(\"\"))\n",
    "print('str', sys.getsizeof(\"abcdefghijk\"), asizeof.asizeof(\"abcdefghijk\"))\n",
    "print('tuple', sys.getsizeof((1, 2, 3)), asizeof.asizeof((1, 2, 3)))\n",
    "print('list', sys.getsizeof([1, 2, 3]), asizeof.asizeof([1, 2, 3]))\n",
    "print('set', sys.getsizeof({1, 2, 3}), asizeof.asizeof({1, 2, 3}))\n",
    "print('dict', sys.getsizeof({1: None, 2: None, 3: None}), asizeof.asizeof({1: None, 2: None, 3: None}))"
   ]
  },
  {
   "cell_type": "markdown",
   "id": "04b3afb8",
   "metadata": {},
   "source": [
    "**Примечание:** "
   ]
  },
  {
   "cell_type": "markdown",
   "id": "cb24d9b5",
   "metadata": {},
   "source": [
    "- целые числа от **-5** до **256** предсозданы;"
   ]
  },
  {
   "cell_type": "markdown",
   "id": "a365299f",
   "metadata": {},
   "source": [
    "# 5. Профайлеры памяти"
   ]
  },
  {
   "cell_type": "code",
   "execution_count": null,
   "id": "d451ab2a",
   "metadata": {},
   "outputs": [],
   "source": [
    "import random\n",
    "from memprof import memprof\n",
    "from typing import List, Tuple\n",
    "\n",
    "\n",
    "@memprof\n",
    "def test_func(numbers: List[int]) -> Tuple[int, list, list]:\n",
    "    summary = sum(numbers)\n",
    "    list_to_db = [{'num': num} for num in numbers]\n",
    "    num_to_str = [str(num) for num in numbers]\n",
    "    return summary, list_to_db, num_to_str\n",
    "\n",
    "\n",
    "data = [random.randint(1,100) for i in range(100000)]\n",
    "result = test_func(data)"
   ]
  },
  {
   "attachments": {
    "212121.PNG": {
     "image/png": "[encoded data removed]"
    }
   },
   "cell_type": "markdown",
   "id": "740d0bea",
   "metadata": {},
   "source": [
    "![212121.PNG](attachment:212121.PNG)"
   ]
  },
  {
   "cell_type": "code",
   "execution_count": null,
   "id": "690b83a1",
   "metadata": {},
   "outputs": [],
   "source": [
    "# pip install psutil memory_profiler\n",
    "import random\n",
    "from memory_profiler import profile\n",
    "from typing import List, Tuple\n",
    "\n",
    "\n",
    "@profile\n",
    "def test_func(numbers: List[int]) -> Tuple[int, list, list]:\n",
    "    summary = sum(numbers)\n",
    "    list_to_db = [{'num': num} for num in numbers]\n",
    "    num_to_str = [str(num) for num in numbers]\n",
    "    return summary, list_to_db, num_to_str\n",
    "\n",
    "\n",
    "data = [random.randint(1,100) for i in range(100000)]\n",
    "result = test_func(data)"
   ]
  },
  {
   "attachments": {
    "1212121.PNG": {
     "image/png": "[encoded data removed]"
    }
   },
   "cell_type": "markdown",
   "id": "d91b2df3",
   "metadata": {},
   "source": [
    "![1212121.PNG](attachment:1212121.PNG)"
   ]
  },
  {
   "cell_type": "markdown",
   "id": "b3a86e89",
   "metadata": {},
   "source": [
    "# 6. Рекомендации"
   ]
  },
  {
   "cell_type": "markdown",
   "id": "51eff3e9",
   "metadata": {},
   "source": [
    "- Обращайте внимание на работу с неизменяемыми объектами. К примеру, вместо использования оператора + для соединения строк используйте методы .join(), .format() или f-строки.\n",
    "- Избегайте вложенных циклов. Создание сложных вложенных циклов приводит к генерации чрезмерно большого количества объектов, занимающих значительную часть виртуальной памяти. Большинство задач, решаемых с помощью вложенных циклов, разрешимы методами модуля **itertools**.\n",
    "- Используйте кэширование. Если вы знаете, что функция или класс используют или генерируют набор однотипных объектов, применяйте кэширование. Часто для этого достаточно добавить всего лишь один декоратор из библиотеки **functools**.\n",
    "- Профилируйте код."
   ]
  },
  {
   "cell_type": "markdown",
   "id": "4a52e08a",
   "metadata": {},
   "source": [
    "# Полезные ссылки"
   ]
  },
  {
   "cell_type": "markdown",
   "id": "ab7a55dd",
   "metadata": {},
   "source": [
    "- https://habr.com/ru/company/mailru/blog/336156/\n",
    "\n",
    "- https://habr.com/ru/company/mailru/blog/336156/\n",
    "\n",
    "- https://proglib.io/p/pomnit-vse-kak-rabotaet-pamyat-v-python-2021-03-14\n",
    "\n",
    "- https://stackify.com/python-garbage-collection/\n",
    "\n",
    "- https://pypi.org/project/memory-profiler/"
   ]
  }
 ],
 "metadata": {
  "kernelspec": {
   "display_name": "Python 3 (ipykernel)",
   "language": "python",
   "name": "python3"
  },
  "language_info": {
   "codemirror_mode": {
    "name": "ipython",
    "version": 3
   },
   "file_extension": ".py",
   "mimetype": "text/x-python",
   "name": "python",
   "nbconvert_exporter": "python",
   "pygments_lexer": "ipython3",
   "version": "3.8.6"
  }
 },
 "nbformat": 4,
 "nbformat_minor": 5
}
