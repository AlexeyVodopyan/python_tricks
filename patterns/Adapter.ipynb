{
 "cells": [
  {
   "cell_type": "markdown",
   "metadata": {},
   "source": [
    "# Паттерн Адаптер"
   ]
  },
  {
   "cell_type": "markdown",
   "metadata": {},
   "source": [
    "* Адаптер — это структурный паттерн проектирования, который позволяет объектам с несовместимыми интерфейсами работать вместе."
   ]
  },
  {
   "cell_type": "markdown",
   "metadata": {},
   "source": [
    "### Допустим у нас есть класс для расчета моделей с помощью расчетной библиотеки UniflocPy"
   ]
  },
  {
   "cell_type": "code",
   "execution_count": 1,
   "metadata": {},
   "outputs": [],
   "source": [
    "class UniflocPyModel:\n",
    "    \"\"\"Класс-расчетчик модели с помощью UniflocPy\"\"\"\n",
    "    def __init__(self, well_name, tubing_data, casing_data, equipment_data, pvt_data):\n",
    "        self.well_name = well_name\n",
    "        self.tubing_data = tubing_data\n",
    "        self.casing_data = casing_data\n",
    "        self.equipment_data = equipment_data\n",
    "        self.pvt_data = pvt_data\n",
    "    \n",
    "    def calc_model(self):\n",
    "        \"\"\"Расчет модели\"\"\"\n",
    "        print(f'Расчет модели скважины {self.well_name}...')\n",
    "        print('Расчет выполнен')"
   ]
  },
  {
   "cell_type": "markdown",
   "metadata": {},
   "source": [
    "### И есть класс с определенной логикой, позволяющий рассчитывать много моделей "
   ]
  },
  {
   "cell_type": "code",
   "execution_count": 2,
   "metadata": {},
   "outputs": [],
   "source": [
    "class MainCalc:\n",
    "    def __init__(self, models):\n",
    "        self.models = models\n",
    "        \n",
    "    def calc_models(self):\n",
    "        \"\"\"Расчет всех моделей\"\"\"\n",
    "        for model in self.models:\n",
    "            model.calc_model()"
   ]
  },
  {
   "cell_type": "markdown",
   "metadata": {},
   "source": [
    "### Создадим 2 модели скважины"
   ]
  },
  {
   "cell_type": "code",
   "execution_count": 3,
   "metadata": {},
   "outputs": [],
   "source": [
    "well_name1 = '1P'\n",
    "tubing_data1 = {'bottom_depth': 1400, 'd': 0.11, 'roughness': 0.0001, 'hydr_corr_type': 'BeggsBrill'}\n",
    "casing_data1 = {'bottom_depth': 1800, 'd': 0.146, 'roughness': 0.0001, 'hydr_corr_type': 'BeggsBrill'}\n",
    "equipment_data1 = {'esp': {'esp_data': 1, 'stages': 345,\n",
    "                           'viscosity_correction': True,\n",
    "                           'gas_correction': True, 'gas_degr_value': 0.9}}\n",
    "pvt_data1 = {'gamma_gas': 0.7, 'gamma_wat': 1, 'gamma_oil': 0.8, 'rp': 50, 't_res': 303.15}\n",
    "\n",
    "model1 = UniflocPyModel(well_name1, tubing_data1, casing_data1, equipment_data1, pvt_data1)"
   ]
  },
  {
   "cell_type": "code",
   "execution_count": 4,
   "metadata": {},
   "outputs": [],
   "source": [
    "well_name2 = '2P'\n",
    "tubing_data2 = {'bottom_depth': 1400, 'd': 0.11, 'roughness': 0.0001, 'hydr_corr_type': 'BeggsBrill'}\n",
    "casing_data2 = {'bottom_depth': 1800, 'd': 0.146, 'roughness': 0.0001, 'hydr_corr_type': 'BeggsBrill'}\n",
    "equipment_data2 = {'esp': {'esp_data': 1, 'stages': 345,\n",
    "                           'viscosity_correction': True,\n",
    "                           'gas_correction': True, 'gas_degr_value': 0.9}}\n",
    "pvt_data2 = {'gamma_gas': 0.7, 'gamma_wat': 1, 'gamma_oil': 0.8, 'rp': 50, 't_res': 303.15}\n",
    "\n",
    "model2 = UniflocPyModel(well_name2, tubing_data2, casing_data2, equipment_data2, pvt_data2)"
   ]
  },
  {
   "cell_type": "markdown",
   "metadata": {},
   "source": [
    "### Создадим расчетчик и рассчитаем данные скважины"
   ]
  },
  {
   "cell_type": "code",
   "execution_count": 5,
   "metadata": {},
   "outputs": [],
   "source": [
    "calculator = MainCalc([model1, model2])"
   ]
  },
  {
   "cell_type": "code",
   "execution_count": 6,
   "metadata": {},
   "outputs": [
    {
     "name": "stdout",
     "output_type": "stream",
     "text": [
      "Расчет модели скважины 1P...\n",
      "Расчет выполнен\n",
      "Расчет модели скважины 2P...\n",
      "Расчет выполнен\n"
     ]
    }
   ],
   "source": [
    "calculator.calc_models()"
   ]
  },
  {
   "cell_type": "markdown",
   "metadata": {},
   "source": [
    "### Как видим, все работает.. Но выяснилось, что UniflocPy считает неверно :( \n",
    "\n",
    "### Было принято решение о переходе на Pipesim. "
   ]
  },
  {
   "cell_type": "markdown",
   "metadata": {},
   "source": [
    "### Класс расчетчика скважины Pipesim"
   ]
  },
  {
   "cell_type": "code",
   "execution_count": 7,
   "metadata": {},
   "outputs": [],
   "source": [
    "class PipesimModel:\n",
    "    \"\"\"Класс-расчетчик модели с помощью API Pipesim\"\"\"\n",
    "    \n",
    "    def __init__(self, well_name, tubing_data, casing_data, equipment_data, pvt_data):\n",
    "        self.well_name = well_name\n",
    "        self.tubing_data = tubing_data\n",
    "        self.casing_data = casing_data\n",
    "        self.equipment_data = equipment_data\n",
    "        self.pvt_data = pvt_data\n",
    "        \n",
    "    def __make_adaptation(self, p_wf_mes):\n",
    "        \"\"\"Адаптация модели\"\"\"\n",
    "        \n",
    "        if p_wf_mes is not None:\n",
    "            print('Адаптация модели...')\n",
    "            print('Адаптация выполнена')\n",
    "        else:\n",
    "            print('Отсутствует замер. Адаптация невозможна')\n",
    "        \n",
    "    def calc_model(self, file_path, adaptation=True, p_wf_mes=None, step_len=100):\n",
    "        \"\"\"Расчет модели\"\"\"\n",
    "        \n",
    "        if adaptation:\n",
    "            self.__make_adaptation(p_wf_mes)\n",
    "            \n",
    "        print(f'Расчет модели скважины {self.well_name}')\n",
    "        print('Расчет окончен')        "
   ]
  },
  {
   "cell_type": "markdown",
   "metadata": {},
   "source": [
    "### Аналогично сделаем 2 скважины и попробуем запустить массовый расчет"
   ]
  },
  {
   "cell_type": "code",
   "execution_count": 8,
   "metadata": {},
   "outputs": [],
   "source": [
    "well_name1 = '1P'\n",
    "tubing_data1 = {'bottom_depth': 1400, 'd': 0.11, 'roughness': 0.0001, 'hydr_corr_type': 'BeggsBrill'}\n",
    "casing_data1 = {'bottom_depth': 1800, 'd': 0.146, 'roughness': 0.0001, 'hydr_corr_type': 'BeggsBrill'}\n",
    "equipment_data1 = {'esp': {'esp_data': 1, 'stages': 345,\n",
    "                           'viscosity_correction': True,\n",
    "                           'gas_correction': True, 'gas_degr_value': 0.9}}\n",
    "pvt_data1 = {'gamma_gas': 0.7, 'gamma_wat': 1, 'gamma_oil': 0.8, 'rp': 50, 't_res': 303.15}\n",
    "\n",
    "model1 = PipesimModel(well_name1, tubing_data1, casing_data1, equipment_data1, pvt_data1)"
   ]
  },
  {
   "cell_type": "code",
   "execution_count": 9,
   "metadata": {},
   "outputs": [],
   "source": [
    "well_name2 = '2P'\n",
    "tubing_data2 = {'bottom_depth': 1400, 'd': 0.11, 'roughness': 0.0001, 'hydr_corr_type': 'BeggsBrill'}\n",
    "casing_data2 = {'bottom_depth': 1800, 'd': 0.146, 'roughness': 0.0001, 'hydr_corr_type': 'BeggsBrill'}\n",
    "equipment_data2 = {'esp': {'esp_data': 1, 'stages': 345,\n",
    "                           'viscosity_correction': True,\n",
    "                           'gas_correction': True, 'gas_degr_value': 0.9}}\n",
    "pvt_data2 = {'gamma_gas': 0.7, 'gamma_wat': 1, 'gamma_oil': 0.8, 'rp': 50, 't_res': 303.15}\n",
    "\n",
    "model2 = PipesimModel(well_name2, tubing_data2, casing_data2, equipment_data2, pvt_data2)"
   ]
  },
  {
   "cell_type": "code",
   "execution_count": 10,
   "metadata": {},
   "outputs": [],
   "source": [
    "calculator = MainCalc([model1, model2])"
   ]
  },
  {
   "cell_type": "code",
   "execution_count": 11,
   "metadata": {},
   "outputs": [
    {
     "ename": "TypeError",
     "evalue": "calc_model() missing 1 required positional argument: 'file_path'",
     "output_type": "error",
     "traceback": [
      "\u001b[1;31m---------------------------------------------------------------------------\u001b[0m",
      "\u001b[1;31mTypeError\u001b[0m                                 Traceback (most recent call last)",
      "\u001b[1;32m<ipython-input-11-4c5745040dbb>\u001b[0m in \u001b[0;36m<module>\u001b[1;34m\u001b[0m\n\u001b[1;32m----> 1\u001b[1;33m \u001b[0mcalculator\u001b[0m\u001b[1;33m.\u001b[0m\u001b[0mcalc_models\u001b[0m\u001b[1;33m(\u001b[0m\u001b[1;33m)\u001b[0m\u001b[1;33m\u001b[0m\u001b[1;33m\u001b[0m\u001b[0m\n\u001b[0m",
      "\u001b[1;32m<ipython-input-2-e9939d589c0b>\u001b[0m in \u001b[0;36mcalc_models\u001b[1;34m(self)\u001b[0m\n\u001b[0;32m      6\u001b[0m         \u001b[1;34m\"\"\"Расчет всех моделей\"\"\"\u001b[0m\u001b[1;33m\u001b[0m\u001b[1;33m\u001b[0m\u001b[0m\n\u001b[0;32m      7\u001b[0m         \u001b[1;32mfor\u001b[0m \u001b[0mmodel\u001b[0m \u001b[1;32min\u001b[0m \u001b[0mself\u001b[0m\u001b[1;33m.\u001b[0m\u001b[0mmodels\u001b[0m\u001b[1;33m:\u001b[0m\u001b[1;33m\u001b[0m\u001b[1;33m\u001b[0m\u001b[0m\n\u001b[1;32m----> 8\u001b[1;33m             \u001b[0mmodel\u001b[0m\u001b[1;33m.\u001b[0m\u001b[0mcalc_model\u001b[0m\u001b[1;33m(\u001b[0m\u001b[1;33m)\u001b[0m\u001b[1;33m\u001b[0m\u001b[1;33m\u001b[0m\u001b[0m\n\u001b[0m",
      "\u001b[1;31mTypeError\u001b[0m: calc_model() missing 1 required positional argument: 'file_path'"
     ]
    }
   ],
   "source": [
    "calculator.calc_models()"
   ]
  },
  {
   "cell_type": "markdown",
   "metadata": {},
   "source": [
    "### Упс.. У нас проблемы - Pipesim по-другому вызывает расчет, кажется придется все переделывать..."
   ]
  },
  {
   "cell_type": "markdown",
   "metadata": {},
   "source": [
    "### Это конечно не выход - поэтому сделаем класс адаптирующий вызов модели Pipesim под наш массовый расчетчик -  тогда не придется передывать ни массовый расчетчик, ни класс расчета Pipesim"
   ]
  },
  {
   "cell_type": "markdown",
   "metadata": {},
   "source": [
    "### Создадим класс-адаптер"
   ]
  },
  {
   "cell_type": "code",
   "execution_count": 12,
   "metadata": {},
   "outputs": [],
   "source": [
    "class PipesimModelAdapter(PipesimModel):\n",
    "    \"\"\"Адаптер для вызова расчета модели скважина на Pipesim\"\"\"\n",
    "    def __init__(self, well_name, tubing_data, casing_data, equipment_data,\n",
    "                 pvt_data, file_path, adaptation=True, p_wf_mes=None, step_len=100):\n",
    "        super().__init__(well_name, tubing_data, casing_data, equipment_data, pvt_data)\n",
    "        self.file_path = file_path\n",
    "        self.adaptation = adaptation\n",
    "        self.p_wf_mes = p_wf_mes\n",
    "        self.step_len = step_len\n",
    "        \n",
    "    def calc_model(self):\n",
    "        \"\"\"Единообразная функция вызова расчета\"\"\"\n",
    "        super().calc_model(self.file_path, self.adaptation, self.p_wf_mes, self.step_len)"
   ]
  },
  {
   "cell_type": "markdown",
   "metadata": {},
   "source": [
    "### Попробуем снова"
   ]
  },
  {
   "cell_type": "code",
   "execution_count": 13,
   "metadata": {},
   "outputs": [],
   "source": [
    "well_name1 = '1P'\n",
    "tubing_data1 = {'bottom_depth': 1400, 'd': 0.11, 'roughness': 0.0001, 'hydr_corr_type': 'BeggsBrill'}\n",
    "casing_data1 = {'bottom_depth': 1800, 'd': 0.146, 'roughness': 0.0001, 'hydr_corr_type': 'BeggsBrill'}\n",
    "equipment_data1 = {'esp': {'esp_data': 1, 'stages': 345,\n",
    "                           'viscosity_correction': True,\n",
    "                           'gas_correction': True, 'gas_degr_value': 0.9}}\n",
    "pvt_data1 = {'gamma_gas': 0.7, 'gamma_wat': 1, 'gamma_oil': 0.8, 'rp': 50, 't_res': 303.15}\n",
    "\n",
    "file_path = f'{well_name1}.pips'\n",
    "model1 = PipesimModelAdapter(well_name1, tubing_data1, casing_data1, equipment_data1, pvt_data1, file_path)"
   ]
  },
  {
   "cell_type": "code",
   "execution_count": 14,
   "metadata": {},
   "outputs": [],
   "source": [
    "well_name2 = '2P'\n",
    "tubing_data2 = {'bottom_depth': 1400, 'd': 0.11, 'roughness': 0.0001, 'hydr_corr_type': 'BeggsBrill'}\n",
    "casing_data2 = {'bottom_depth': 1800, 'd': 0.146, 'roughness': 0.0001, 'hydr_corr_type': 'BeggsBrill'}\n",
    "equipment_data2 = {'esp': {'esp_data': 1, 'stages': 345,\n",
    "                           'viscosity_correction': True,\n",
    "                           'gas_correction': True, 'gas_degr_value': 0.9}}\n",
    "pvt_data2 = {'gamma_gas': 0.7, 'gamma_wat': 1, 'gamma_oil': 0.8, 'rp': 50, 't_res': 303.15}\n",
    "\n",
    "file_path = f'{well_name2}.pips'\n",
    "model2 = PipesimModelAdapter(well_name2, tubing_data2, casing_data2, equipment_data2, pvt_data2, file_path)"
   ]
  },
  {
   "cell_type": "code",
   "execution_count": 15,
   "metadata": {},
   "outputs": [],
   "source": [
    "calculator = MainCalc([model1, model2])"
   ]
  },
  {
   "cell_type": "code",
   "execution_count": 16,
   "metadata": {},
   "outputs": [
    {
     "name": "stdout",
     "output_type": "stream",
     "text": [
      "Отсутствует замер. Адаптация невозможна\n",
      "Расчет модели скважины 1P\n",
      "Расчет окончен\n",
      "Отсутствует замер. Адаптация невозможна\n",
      "Расчет модели скважины 2P\n",
      "Расчет окончен\n"
     ]
    }
   ],
   "source": [
    "calculator.calc_models()"
   ]
  },
  {
   "cell_type": "code",
   "execution_count": null,
   "metadata": {},
   "outputs": [],
   "source": []
  }
 ],
 "metadata": {
  "kernelspec": {
   "display_name": "Python 3",
   "language": "python",
   "name": "python3"
  },
  "language_info": {
   "codemirror_mode": {
    "name": "ipython",
    "version": 3
   },
   "file_extension": ".py",
   "mimetype": "text/x-python",
   "name": "python",
   "nbconvert_exporter": "python",
   "pygments_lexer": "ipython3",
   "version": "3.8.3"
  }
 },
 "nbformat": 4,
 "nbformat_minor": 4
}
