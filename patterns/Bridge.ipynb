{
 "cells": [
  {
   "cell_type": "markdown",
   "metadata": {
    "deletable": true,
    "editable": true
   },
   "source": [
    "## Мост\n",
    "\n",
    "**Мост** - это структурный паттерн проектирования, который разделяет один или несколько классов на две отдельные иерархии - абстракцию и реализацию, позволяя изменять их независимо друг от друга.\n",
    "\n",
    "***Абстракция*** (или интерфейс) - это образный слой управления чем-либо. Он не делает работу самостоятельно, а делегирует её слою ***реализации*** (иногда называемому платформой).\n",
    "\n",
    "*Преимущества:*\n",
    "- Позволяет строить платформо-независимые программы.\n",
    "- Скрывает лишние или опасные детали реализации от клиентского кода.\n",
    "- Реализует принцип открытости/закрытости.\n",
    "\n",
    "*Недостатки:*\n",
    "- Усложняет код программы из-за введения дополнительных классов.\n",
    "\n",
    "**!** Мост позволяет отделить иерархию абстракции от иерархии реализации, дав им возможность развиваться самостоятельно и произвольно комбинироваться, т.е. применяется, где нужно позволить параллельным иерархиям эволюционировать отдельно, сохраняя связь между собой."
   ]
  },
  {
   "cell_type": "code",
   "execution_count": 1,
   "metadata": {
    "collapsed": false,
    "deletable": true,
    "editable": true
   },
   "outputs": [
    {
     "name": "stdout",
     "output_type": "stream",
     "text": [
      "('Месторождение A: ', 'Расчет фонтанной скважины')\n",
      "('Месторождение B: ', 'Расчет скважины с УЭЦН')\n"
     ]
    }
   ],
   "source": [
    "from abc import ABC, abstractmethod\n",
    "\n",
    "\n",
    "class WellType(ABC):\n",
    "    \"\"\"\n",
    "    Реализация\n",
    "    \"\"\"\n",
    "    \n",
    "    @abstractmethod\n",
    "    def model_calculation(self):\n",
    "        pass\n",
    "\n",
    "\n",
    "class WellEsp(WellType):\n",
    "    def model_calculation(self):\n",
    "        return \"Расчет скважины с УЭЦН\"\n",
    "\n",
    "\n",
    "class WellFon(WellType):\n",
    "    def model_calculation(self):\n",
    "        return \"Расчет фонтанной скважины\"\n",
    "\n",
    "    \n",
    "\n",
    "class Field:\n",
    "    \"\"\"\n",
    "    Абстракция\n",
    "    \"\"\"\n",
    "    def __init__(self, calculation: WellType):\n",
    "        self.calculation = calculation\n",
    "    \n",
    "\"\"\"\n",
    "Расширение Абстракции\n",
    "\"\"\"    \n",
    "\n",
    "class FieldA(Field):\n",
    "    def operation(self):\n",
    "        return \"Месторождение A: \", self.calculation.model_calculation()\n",
    "    \n",
    "\n",
    "class FieldB(Field):\n",
    "    def operation(self):\n",
    "        return \"Месторождение B: \", self.calculation.model_calculation()\n",
    "                \n",
    "                \n",
    "\n",
    "\n",
    "# Пример расчета\n",
    "implementation = WellFon()\n",
    "abstraction = FieldA(implementation)\n",
    "print(abstraction.operation())\n",
    "\n",
    "implementation = WellEsp()\n",
    "abstraction = FieldB(implementation)\n",
    "print(abstraction.operation())"
   ]
  }
 ],
 "metadata": {
  "kernelspec": {
   "display_name": "Python 3",
   "language": "python",
   "name": "python3"
  },
  "language_info": {
   "codemirror_mode": {
    "name": "ipython",
    "version": 3
   },
   "file_extension": ".py",
   "mimetype": "text/x-python",
   "name": "python",
   "nbconvert_exporter": "python",
   "pygments_lexer": "ipython3",
   "version": "3.5.2"
  }
 },
 "nbformat": 4,
 "nbformat_minor": 4
}
