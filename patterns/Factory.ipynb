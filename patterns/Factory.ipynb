{
 "cells": [
  {
   "cell_type": "markdown",
   "metadata": {},
   "source": [
    "## Паттерн \"Фабричный метод\""
   ]
  },
  {
   "cell_type": "markdown",
   "metadata": {},
   "source": [
    "Фабричный метод  — это порождающий паттерн проектирования, который определяет общий интерфейс для создания объектов в суперклассе, позволяя подклассам изменять тип создаваемых объектов.\n",
    "\n",
    "Основная идея фабричного метода — предоставить отдельному компоненту ответственность за решение о том, какую конкретную реализацию следует использовать на основе определенного параметра. Этот параметр в нашем примере называется delivery_type.\n"
   ]
  },
  {
   "cell_type": "markdown",
   "metadata": {},
   "source": [
    "## Пример:"
   ]
  },
  {
   "cell_type": "markdown",
   "metadata": {},
   "source": [
    "Пусть есть НПЗ, которому необходимо доставить свою продукцию различными способами, например: танкером или через трубопровод. У НПЗ выделяется отдельный компонент, отвечающий за поставки нефти. "
   ]
  },
  {
   "cell_type": "code",
   "execution_count": 1,
   "metadata": {},
   "outputs": [],
   "source": [
    "class Tanker:\n",
    "    \"\"\"Реализация product Tanker\"\"\"\n",
    "\n",
    "    def deliver(self, oil):\n",
    "        \"\"\"\n",
    "        Доставка танкером\n",
    "        \"\"\"\n",
    "        print('Нефть доставлена при помощи нефтяного танкера')\n",
    "\n",
    "\n",
    "class Pipeline:\n",
    "    \"\"\"Реализация product Pipeline\"\"\"\n",
    "\n",
    "    def deliver(self, oil):\n",
    "        \"\"\"\n",
    "        Прокачать нефть через трубопровод\n",
    "        \"\"\"\n",
    "\n",
    "        print('Нефть доставлена при помощи трубопровода')"
   ]
  },
  {
   "cell_type": "code",
   "execution_count": 2,
   "metadata": {},
   "outputs": [],
   "source": [
    "class OilSupply:\n",
    "    def get_deliver(self, delivery_type, oil):\n",
    "        \"Метод поставки нефти - компонент creator\"\n",
    "        if delivery_type == 'Tanker':\n",
    "            tank = Tanker()\n",
    "            return tank.deliver(oil)\n",
    "\n",
    "        elif delivery_type == 'Pipeline':\n",
    "            pipeline = Pipeline()\n",
    "            return pipeline.deliver(oil)\n",
    "\n",
    "        else:\n",
    "            return 'TypeError: wrong delivery_type'\n",
    "\n",
    "\n",
    "class OilRefinery:\n",
    "    def money_maker(self, delivery_type, oil):\n",
    "        \"\"\"Метод client, отвечающий за поставку нефтепродуктов различными способами\"\"\"\n",
    "        supply = OilSupply()\n",
    "        supply.get_deliver(delivery_type, oil)\n"
   ]
  },
  {
   "cell_type": "markdown",
   "metadata": {},
   "source": [
    "Метод .money_maker() — это код приложения, который зависит от интерфейса. Он называется client — то есть клиентским компонентом шаблона. Определенный интерфейс называется product. В данном случае методы  .deliver() в классах Tanker и Pipeline являются реализациями product.\n",
    "Наконец, метод .get_deliver() класса OilSupply является компонентом creator. Сreator решает, какую конкретную реализацию использовать."
   ]
  },
  {
   "cell_type": "code",
   "execution_count": 3,
   "metadata": {},
   "outputs": [
    {
     "name": "stdout",
     "output_type": "stream",
     "text": [
      "Нефть доставлена при помощи нефтяного танкера\n",
      "Тип доставки изменен\n",
      "Нефть доставлена при помощи трубопровода\n"
     ]
    }
   ],
   "source": [
    "delivery_type = 'Tanker'\n",
    "oil = 1\n",
    "my_oil_ref = OilRefinery()\n",
    "my_oil_ref.money_maker(delivery_type, oil)\n",
    "\n",
    "print(\"Тип доставки изменен\")\n",
    "delivery_type = 'Pipeline'\n",
    "my_oil_ref.money_maker(delivery_type, oil)"
   ]
  },
  {
   "cell_type": "markdown",
   "metadata": {},
   "source": [
    "##  Преимущества и недостатки"
   ]
  },
  {
   "cell_type": "markdown",
   "metadata": {},
   "source": [
    "Преимущества:\n",
    "\n",
    "- избавляет класс от привязки к конкретным классам продуктов\n",
    "- выделяет код производства продуктов в одно место, упрощая поддержку кода\n",
    "- упращает добавление новых продуктов в программу\n",
    "- реализует принцип открытости/закрытости.\n",
    "\n",
    "Недостатки: \n",
    "\n",
    "- Может привести к созданию больших параллельных иерархий классов"
   ]
  },
  {
   "cell_type": "code",
   "execution_count": null,
   "metadata": {},
   "outputs": [],
   "source": []
  }
 ],
 "metadata": {
  "kernelspec": {
   "display_name": "Python 3",
   "language": "python",
   "name": "python3"
  },
  "language_info": {
   "codemirror_mode": {
    "name": "ipython",
    "version": 3
   },
   "file_extension": ".py",
   "mimetype": "text/x-python",
   "name": "python",
   "nbconvert_exporter": "python",
   "pygments_lexer": "ipython3",
   "version": "3.8.5"
  }
 },
 "nbformat": 4,
 "nbformat_minor": 4
}
