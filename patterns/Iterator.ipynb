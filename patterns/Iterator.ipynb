{
 "cells": [
  {
   "cell_type": "markdown",
   "metadata": {
    "deletable": true,
    "editable": true
   },
   "source": [
    "**Итератор** - это поведенческий паттерн, позволяющий последовательно обходить сложную коллекцию, без раскрытия деталей её реализации.\n",
    "\n",
    "*Идея паттерна*: вынесение поведения обхода коллекции из самой коллекции в отдельный класс.\n",
    "***\n",
    "**Итератор в Python** - представляет собой объект перечислитель, который для данного объекта выдает следующий элемент.\n",
    "\n",
    "Итерация это процесс, включающий:\n",
    "1. итерируемые объекты (реализующие метод __iter__()) - это то, что можно итерировать;\n",
    "  \n",
    "2. итераторы (реализующие метод __next__()) - это сущность порождаемая функцией __iter__(), с помощью которой происходит итерирование итерируемого объекта.\n",
    "\n",
    "Методы **iter** и **next** образуют протокол итератора.\n",
    "\n",
    "***Ограничения:***\n",
    "- итератор не имеет индексов и может быть использован только один раз.\n"
   ]
  },
  {
   "cell_type": "code",
   "execution_count": 2,
   "metadata": {
    "collapsed": false,
    "deletable": true,
    "editable": true
   },
   "outputs": [
    {
     "name": "stdout",
     "output_type": "stream",
     "text": [
      "абрикос\n",
      "яблоко\n",
      "груша\n",
      "слива\n",
      "None\n"
     ]
    }
   ],
   "source": [
    "compot = {'яблоко', 'груша', 'слива', 'абрикос'}\n",
    "# compot = ('яблоко', 'груша', 'слива', 'абрикос')\n",
    "\n",
    "# Итерируемый объект\n",
    "compot_iter_object = iter(compot)\n",
    "\n",
    "# Итератор\n",
    "print(next(compot_iter_object))\n",
    "print(next(compot_iter_object))\n",
    "print(next(compot_iter_object))\n",
    "print(next(compot_iter_object))\n",
    "\n",
    "# Как только итератор становится пустым, порождается исключение - StopIteration:\n",
    "# print(next(compot_iter_object))\n",
    "print(next(compot_iter_object, None))"
   ]
  },
  {
   "cell_type": "code",
   "execution_count": 2,
   "metadata": {
    "collapsed": false,
    "deletable": true,
    "editable": true
   },
   "outputs": [
    {
     "name": "stdout",
     "output_type": "stream",
     "text": [
      "яблоко\n",
      "груша\n",
      "абрикос\n",
      "слива\n"
     ]
    }
   ],
   "source": [
    "for ingredient in compot:\n",
    "    print(ingredient)"
   ]
  },
  {
   "cell_type": "code",
   "execution_count": 3,
   "metadata": {
    "collapsed": false,
    "deletable": true,
    "editable": true
   },
   "outputs": [
    {
     "name": "stdout",
     "output_type": "stream",
     "text": [
      "яблоко\n",
      "груша\n",
      "абрикос\n",
      "слива\n"
     ]
    }
   ],
   "source": [
    "# Реализация цикла for с помощью цикла while\n",
    "def while_like_for(compot):\n",
    "    compot_iter_object = iter(compot)\n",
    "    next_element_exist = True\n",
    "    while next_element_exist:\n",
    "        try:\n",
    "            ingredient = next(compot_iter_object)\n",
    "            print(ingredient)\n",
    "        except StopIteration:\n",
    "            next_element_exist = False\n",
    "while_like_for(compot)"
   ]
  },
  {
   "cell_type": "code",
   "execution_count": 4,
   "metadata": {
    "collapsed": false,
    "deletable": true,
    "editable": true
   },
   "outputs": [
    {
     "name": "stdout",
     "output_type": "stream",
     "text": [
      "0 абрикос\n",
      "1 яблоко\n",
      "2 груша\n",
      "3 слива\n"
     ]
    }
   ],
   "source": [
    "# Итерируемые объекты не упорядочены и не имеют индексов\n",
    "#print(compot_iter_object[1])\n",
    "# print(compot[1])\n",
    "\n",
    "# Реализация функции enumerate\n",
    "for index, ingredient in enumerate(compot):\n",
    "    print(index, ingredient)"
   ]
  },
  {
   "cell_type": "code",
   "execution_count": 5,
   "metadata": {
    "collapsed": false,
    "deletable": true,
    "editable": true
   },
   "outputs": [
    {
     "name": "stdout",
     "output_type": "stream",
     "text": [
      "яблоко\n",
      "груша\n",
      "слива\n",
      "абрикос\n"
     ]
    }
   ],
   "source": [
    "# Создание итератора\n",
    "\n",
    "import collections\n",
    "\n",
    "\n",
    "class MyIterator(collections.abc.Iterator):\n",
    "    def __init__(self, compot, ingredients_counter):\n",
    "        self.compot = compot\n",
    "        self.ingredients_counter = ingredients_counter\n",
    "\n",
    "    def __next__(self):\n",
    "        if self.ingredients_counter + 1 >= len(self.compot):\n",
    "            raise StopIteration()\n",
    "        self.ingredients_counter += 1\n",
    "        return self.compot[self.ingredients_counter]\n",
    "\n",
    "class MyIterableObject(collections.abc.Iterable):\n",
    "    def __init__(self, compot):\n",
    "        self.compot = compot\n",
    "\n",
    "    def __iter__(self):\n",
    "        return MyIterator(self.compot, -1)\n",
    "\n",
    "compot = ('яблоко', 'груша', 'слива', 'абрикос')\n",
    "iter_compot = MyIterableObject(compot)\n",
    "for ingredient in iter_compot:\n",
    "    print(ingredient)"
   ]
  },
  {
   "cell_type": "code",
   "execution_count": null,
   "metadata": {
    "collapsed": true,
    "deletable": true,
    "editable": true
   },
   "outputs": [],
   "source": []
  }
 ],
 "metadata": {
  "kernelspec": {
   "display_name": "Python 3",
   "language": "python",
   "name": "python3"
  },
  "language_info": {
   "codemirror_mode": {
    "name": "ipython",
    "version": 3
   },
   "file_extension": ".py",
   "mimetype": "text/x-python",
   "name": "python",
   "nbconvert_exporter": "python",
   "pygments_lexer": "ipython3",
   "version": "3.5.2"
  }
 },
 "nbformat": 4,
 "nbformat_minor": 4
}
