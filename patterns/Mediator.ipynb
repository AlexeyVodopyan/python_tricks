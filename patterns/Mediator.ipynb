{
 "cells": [
  {
   "cell_type": "markdown",
   "metadata": {},
   "source": [
    "# Паттерн Посредник"
   ]
  },
  {
   "cell_type": "markdown",
   "metadata": {},
   "source": [
    "Посредник — это поведенческий паттерн проектирования, который позволяет уменьшить связанность множества классов между собой, благодаря перемещению этих связей в один класс-посредник."
   ]
  },
  {
   "cell_type": "markdown",
   "metadata": {},
   "source": [
    "Паттерн Посредник заставляет объекты общаться не напрямую друг с другом, а через отдельный объект-посредник, который знает, кому нужно перенаправить тот или иной запрос. Благодаря этому, компоненты системы будут зависеть только от посредника, а не от десятков других компонентов."
   ]
  },
  {
   "cell_type": "markdown",
   "metadata": {},
   "source": [
    "## Пример:"
   ]
  },
  {
   "cell_type": "code",
   "execution_count": 2,
   "metadata": {},
   "outputs": [
    {
     "name": "stdout",
     "output_type": "stream",
     "text": [
      "OUTPUT:\n",
      "Стив прочитал в скайпе сообщение: Начинай работать, бездельник!\n",
      "Билл получил сообщение: Не хочу\n"
     ]
    }
   ],
   "source": [
    "from abc import ABCMeta, abstractmethod\n",
    "from weakref import proxy\n",
    "import inspect\n",
    "\n",
    "\n",
    "class Mediator(metaclass=ABCMeta):\n",
    "    \"\"\"\n",
    "    Абстрактный канал общения между коллегами\n",
    "    \"\"\"\n",
    "\n",
    "    @abstractmethod\n",
    "    def send(self, message: str) -> None:\n",
    "        \"\"\"\n",
    "        Отправка сообщения между коллегами\n",
    "        \"\"\"\n",
    "        pass\n",
    "\n",
    "\n",
    "class Colleague(metaclass=ABCMeta):\n",
    "    \"\"\"\n",
    "    Абстрактный работник, который не против пообщаться со своими коллегами\n",
    "    \"\"\"\n",
    "\n",
    "    def __init__(self, mediator: Mediator) -> None:\n",
    "        \"\"\"\n",
    "        Constructor.\n",
    "\n",
    "        :param mediator: канал общения с коллегами\n",
    "        \"\"\"\n",
    "        self._mediator = proxy(mediator)\n",
    "\n",
    "    @abstractmethod\n",
    "    def send(self, message: str) -> None:\n",
    "        \"\"\"\n",
    "        Отправка сообщения через канал общения\n",
    "        \"\"\"\n",
    "        pass\n",
    "\n",
    "    @abstractmethod\n",
    "    def receive(self, message: str) -> None:\n",
    "        \"\"\"\n",
    "        Получения сообщения через канал общения\n",
    "        \"\"\"\n",
    "        pass\n",
    "\n",
    "\n",
    "class SkypeBetweenTwoColleagues(Mediator):\n",
    "    \"\"\"\n",
    "    Канал в скайпе для общения между двумя людьми\n",
    "    \"\"\"\n",
    "\n",
    "    def __init__(self) -> None:\n",
    "        \"\"\"\n",
    "        Constructor.\n",
    "        \"\"\"\n",
    "        self._first = None\n",
    "        self._second = None\n",
    "\n",
    "    def set_first(self, first: Colleague) -> None:\n",
    "        \"\"\"\n",
    "        Привязывает к каналу первого участника разговора\n",
    "        \"\"\"\n",
    "        self._first = first\n",
    "\n",
    "    def set_second(self, second: Colleague) -> None:\n",
    "        \"\"\"\n",
    "        Привязывает к каналу второго участника разговора\n",
    "        \"\"\"\n",
    "        self._second = second\n",
    "\n",
    "    def send(self, message: str) -> None:\n",
    "        sender = inspect.currentframe().f_back.f_locals['self']\n",
    "        receiver = self._first if sender == self._second else self._second\n",
    "        receiver.receive(message)\n",
    "\n",
    "\n",
    "class Bill(Colleague):\n",
    "\n",
    "    def send(self, message: str) -> None:\n",
    "        self._mediator.send(message)\n",
    "\n",
    "    def receive(self, message: str) -> None:\n",
    "        print('Билл получил сообщение: {}'.format(message))\n",
    "\n",
    "\n",
    "class Steve(Colleague):\n",
    "\n",
    "    def send(self, message: str) -> None:\n",
    "        self._mediator.send(message)\n",
    "\n",
    "    def receive(self, message: str) -> None:\n",
    "        print('Стив прочитал в скайпе сообщение: {}'.format(message))\n",
    "\n",
    "\n",
    "if __name__ == '__main__':\n",
    "    print('OUTPUT:')\n",
    "    skype = SkypeBetweenTwoColleagues()\n",
    "    bill = Bill(skype)\n",
    "    steve = Steve(skype)\n",
    "    skype.set_first(bill)\n",
    "    skype.set_second(steve)\n",
    "    bill.send('Начинай работать, бездельник!')\n",
    "    steve.send('Не хочу')\n"
   ]
  },
  {
   "cell_type": "code",
   "execution_count": null,
   "metadata": {},
   "outputs": [],
   "source": []
  },
  {
   "cell_type": "markdown",
   "metadata": {},
   "source": [
    "## Применимость"
   ]
  },
  {
   "cell_type": "markdown",
   "metadata": {},
   "source": [
    "Когда вам сложно менять некоторые классы из-за того, что они имеют множество хаотичных связей с другими классами.\n",
    "\n",
    " Посредник позволяет поместить все эти связи в один класс, после чего вам будет легче их отрефакторить, сделать более понятными и гибкими.\n",
    "\n",
    " Когда вы не можете повторно использовать класс, поскольку он зависит от уймы других классов.\n",
    "\n",
    " После применения паттерна компоненты теряют прежние связи с другими компонентами, а всё их общение происходит косвенно, через объект-посредник.\n",
    "\n",
    " Когда вам приходится создавать множество подклассов компонентов, чтобы использовать одни и те же компоненты в разных контекстах.\n",
    "\n",
    " Если раньше изменение отношений в одном компоненте могли повлечь за собой лавину изменений во всех остальных компонентах, то теперь вам достаточно создать подкласс посредника и поменять в нём связи между компонентами."
   ]
  },
  {
   "cell_type": "markdown",
   "metadata": {},
   "source": [
    "## Преимущества:"
   ]
  },
  {
   "cell_type": "markdown",
   "metadata": {},
   "source": [
    "\n",
    "Устраняет зависимости между компонентами, позволяя повторно их использовать.\n",
    "\n",
    "Упрощает взаимодействие между компонентами.\n",
    "\n",
    "Централизует управление в одном месте.\n",
    "\n"
   ]
  },
  {
   "cell_type": "markdown",
   "metadata": {},
   "source": [
    "## Недостатки:"
   ]
  },
  {
   "cell_type": "markdown",
   "metadata": {},
   "source": [
    "Посредник может сильно раздуться :("
   ]
  },
  {
   "cell_type": "code",
   "execution_count": null,
   "metadata": {},
   "outputs": [],
   "source": []
  }
 ],
 "metadata": {
  "kernelspec": {
   "display_name": "Python 3",
   "language": "python",
   "name": "python3"
  },
  "language_info": {
   "codemirror_mode": {
    "name": "ipython",
    "version": 3
   },
   "file_extension": ".py",
   "mimetype": "text/x-python",
   "name": "python",
   "nbconvert_exporter": "python",
   "pygments_lexer": "ipython3",
   "version": "3.8.5"
  }
 },
 "nbformat": 4,
 "nbformat_minor": 4
}
