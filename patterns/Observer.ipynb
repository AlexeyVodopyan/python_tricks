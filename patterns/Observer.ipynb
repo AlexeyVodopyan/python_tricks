{
 "cells": [
  {
   "cell_type": "markdown",
   "metadata": {},
   "source": [
    "## Паттерн Наблюдатель"
   ]
  },
  {
   "cell_type": "markdown",
   "metadata": {},
   "source": [
    "Паттерн позволяет создать механизм, позволяющий другим объектам подписываться на определенные события и реагировать на них\n",
    "\n",
    "В данном примере есть класс EspManager c методами прикрепления / открепления нового подписчика и методом уведомления подписчиков о событии\n",
    "\n",
    "Есть класс Esp, описывающий работы насоса с методом, позволяющим рассчитать подачу насоса\n",
    "\n",
    "И есть несколько классов подписчиков - абстрактный работник (Worker), а также Operator и Master. Отдельно взятым операторам и мастерам интересны определенные события, на которые они подписываются и у них есть метод react, описывающий их реакцию на эти события"
   ]
  },
  {
   "cell_type": "code",
   "execution_count": 1,
   "metadata": {},
   "outputs": [],
   "source": [
    "import pandas as pd\n",
    "from abc import ABC, abstractmethod"
   ]
  },
  {
   "cell_type": "code",
   "execution_count": 3,
   "metadata": {},
   "outputs": [],
   "source": [
    "class EspManager:\n",
    "    \n",
    "    def __init__(self, event_types=None):\n",
    "        \n",
    "        if event_types is None:\n",
    "            # Поддерживаемые типы событий по умолчанию\n",
    "            event_types = ['Насос или датчик сгорел', 'Срыв подачи']\n",
    "            \n",
    "        # Подписчики на события, происходящие с ЭЦН\n",
    "        self._subscribers = {event: [] for event in event_types}\n",
    "        \n",
    "    def subscribe(self, subscriber, event_type):\n",
    "        \"\"\"\n",
    "        Прикрепление нового подписчика на событие\n",
    "        \"\"\"\n",
    "        if event_type in self._subscribers.keys():\n",
    "            self._subscribers[event_type].append(subscriber)\n",
    "    \n",
    "    def unsubscribe(self, subscriber, event_type):\n",
    "        \"\"\"\n",
    "        Открепление существующего подписчика на событие\n",
    "        \"\"\"\n",
    "        if event_type in self._subscribers.keys():\n",
    "            self._subscribers[event_type].remove(subscriber)\n",
    "    \n",
    "    def notify(self, event_type):\n",
    "        \"\"\"\n",
    "        Уведомление подписчиков подписанных на событие\n",
    "        \"\"\"\n",
    "        if event_type in self._subscribers.keys():\n",
    "            for subscriber in self._subscribers[event_type]:\n",
    "                subscriber.react(event_type)"
   ]
  },
  {
   "cell_type": "code",
   "execution_count": 4,
   "metadata": {},
   "outputs": [],
   "source": [
    "class Esp:\n",
    "    \n",
    "    def __init__(self, q_max=100):\n",
    "        self.manager = EspManager()\n",
    "        self.q_max = q_max\n",
    "    \n",
    "    @property\n",
    "    def subscribe(self):\n",
    "        return self.manager.subscribe\n",
    "    \n",
    "    @property\n",
    "    def unsubscribe(self):\n",
    "        return self.manager.unsubscribe\n",
    "    \n",
    "    def calc_rate(self, p):\n",
    "        \"\"\"\n",
    "        Определяем сколько жидкости течет через насос\n",
    "        \"\"\"\n",
    "        if p == 0:\n",
    "            self.manager.notify('Насос или датчик сгорел')\n",
    "            return\n",
    "        else:\n",
    "            q = 2 * p\n",
    "        \n",
    "        if q > self.q_max:\n",
    "            self.manager.notify('Срыв подачи')\n",
    "        return"
   ]
  },
  {
   "cell_type": "code",
   "execution_count": 5,
   "metadata": {},
   "outputs": [],
   "source": [
    "class Worker(ABC):\n",
    "    \n",
    "    @abstractmethod\n",
    "    def react(self):\n",
    "        pass"
   ]
  },
  {
   "cell_type": "code",
   "execution_count": 6,
   "metadata": {},
   "outputs": [],
   "source": [
    "class Operator(Worker):\n",
    "    \n",
    "    def __init__(self, name):\n",
    "        self.name = name\n",
    "        \n",
    "    def react(self, event_type):\n",
    "        \n",
    "        print(f'{event_type}. Оператор {self.name} едет на скважину')\n",
    "        \n",
    "        if event_type.lower() == 'насос или датчик сгорел':\n",
    "            self._get_pump()\n",
    "\n",
    "    def _get_pump(self,):\n",
    "        print(f'Оператор {self.name} достает насос из скважины')"
   ]
  },
  {
   "cell_type": "code",
   "execution_count": 7,
   "metadata": {},
   "outputs": [],
   "source": [
    "class Master(Worker):\n",
    "    def __init__(self, name, operators):\n",
    "        self.name = name\n",
    "        self.operators = operators \n",
    "    \n",
    "    def react(self, event_type):\n",
    "        print(f'{event_type}. Мастер {self.name} зол.')\n",
    "        \n",
    "        for operator in self.operators:\n",
    "            operator.react(event_type)"
   ]
  },
  {
   "cell_type": "code",
   "execution_count": 8,
   "metadata": {},
   "outputs": [],
   "source": [
    "operator1 = Operator('Коля')\n",
    "operator2 = Operator('Саня')\n",
    "boss = Master('Вася', operators=[operator2])\n",
    "\n",
    "esp = Esp(q_max=50)"
   ]
  },
  {
   "cell_type": "code",
   "execution_count": 9,
   "metadata": {},
   "outputs": [],
   "source": [
    "esp.subscribe(operator1, 'Срыв подачи')\n",
    "esp.subscribe(operator2, 'Срыв подачи')\n",
    "esp.subscribe(boss, 'Насос или датчик сгорел')"
   ]
  },
  {
   "cell_type": "code",
   "execution_count": 10,
   "metadata": {},
   "outputs": [
    {
     "name": "stdout",
     "output_type": "stream",
     "text": [
      "Срыв подачи. Оператор Коля едет на скважину\n",
      "Срыв подачи. Оператор Саня едет на скважину\n"
     ]
    }
   ],
   "source": [
    "esp.calc_rate(50)"
   ]
  },
  {
   "cell_type": "code",
   "execution_count": 11,
   "metadata": {},
   "outputs": [
    {
     "name": "stdout",
     "output_type": "stream",
     "text": [
      "Насос или датчик сгорел. Мастер Вася зол.\n",
      "Насос или датчик сгорел. Оператор Саня едет на скважину\n",
      "Оператор Саня достает насос из скважины\n"
     ]
    }
   ],
   "source": [
    "esp.calc_rate(0)"
   ]
  },
  {
   "cell_type": "code",
   "execution_count": 12,
   "metadata": {},
   "outputs": [],
   "source": [
    "esp.manager.unsubscribe(boss, 'Насос или датчик сгорел')"
   ]
  },
  {
   "cell_type": "code",
   "execution_count": 13,
   "metadata": {},
   "outputs": [],
   "source": [
    "esp.calc_rate(0)"
   ]
  },
  {
   "cell_type": "code",
   "execution_count": 14,
   "metadata": {},
   "outputs": [
    {
     "name": "stdout",
     "output_type": "stream",
     "text": [
      "Срыв подачи. Оператор Коля едет на скважину\n",
      "Срыв подачи. Оператор Саня едет на скважину\n"
     ]
    }
   ],
   "source": [
    "esp.calc_rate(50)"
   ]
  }
 ],
 "metadata": {
  "kernelspec": {
   "display_name": "Python 3",
   "language": "python",
   "name": "python3"
  },
  "language_info": {
   "codemirror_mode": {
    "name": "ipython",
    "version": 3
   },
   "file_extension": ".py",
   "mimetype": "text/x-python",
   "name": "python",
   "nbconvert_exporter": "python",
   "pygments_lexer": "ipython3",
   "version": "3.8.3"
  }
 },
 "nbformat": 4,
 "nbformat_minor": 4
}
